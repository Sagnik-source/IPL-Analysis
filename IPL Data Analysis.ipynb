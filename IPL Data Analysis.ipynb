import numpy as np
import pandas as pd

import matplotlib.pyplot as plt
import seaborn as sns
plt.style.use('fivethirtyeight')

from ipywidgets import interact


# lets read the dataset
matches = pd.read_csv('matches.csv')

# lets check the shape of these datasets
print("Shape of Matches Dataset :", matches.shape)


# lets check the head of the matches
matches.head()


# lets check the Total Number of Cities and Venues associated with IPL Matches

print("Total number of Teams:", matches['team1'].nunique())
print("Total number of Seasons:", matches['Season'].nunique())
print("Total number of Cities:", matches['city'].nunique())
print("Total number of Venues:", matches['venue'].nunique())


# lets check the name of the cities also

cities = set(matches['city'].unique())
print(cities)


# As we can that we have Bengaluru and Bangalore Both in the Data we have change Bangalore as Benagluru

matches['city'] = matches['city'].replace(('Bangalore'), ('Bengaluru'))

# lets check the city names again
cities = set(matches['city'].unique())
print(cities)


# Lets find all the Umpires who had umpired for the Matches

ump_1 = set(matches['umpire1'].unique())               
ump_2 = set(matches['umpire2'].unique())
ump_3 = set(matches['umpire3'].unique())

ump = ump_1.intersection(ump_2)
ump = ump.intersection(ump_3)

print("The Number of Umpires: ", len(ump))
print("Names of The Umpires :", ump)


# lets find out all those matches where there were no Umpires at all.

matches[(matches['umpire1'].isnull()) & 
        (matches['umpire2'].isnull()) & 
        (matches['umpire3'].isnull())][['date','team1','team2','winner','umpire1','umpire2','umpire3']].reset_index(drop = True)


# lets know more about the Player of the Matches
print('Number of Players who have won the "Title of Player of the Match"',matches['player_of_match'].nunique())

# lets get the names of Top 10 Player of the Matches
matches['player_of_match'].value_counts().sort_values(ascending = False).head(10)


# lets check all those Matches where Chris Gayle Won the Title of "Player of the Match"

matches[matches['player_of_match'] == 'CH Gayle'][['date','team1','team2','winner']].reset_index(drop = True)


# As It is clear that from the Season IPL-2018 Gayle played for Kings XI Punjab, 
# lets analyze and Compare Kings XI Punjab and RCB  After CH Gayle

after_gayle = matches[(matches['Season'] == 'IPL-2018') | (matches['Season'] == 'IPL-2019')]
after_gayle_rcb = after_gayle[(after_gayle['winner'] == 'Royal Challengers Bangalore') |
                              (after_gayle['winner'] == 'Kings XI Punjab')]

print("Number of Matches Won")
print(after_gayle_rcb['winner'].value_counts())

print("\nWin by Total Runs and Wickets")
print(after_gayle_rcb[['win_by_runs', 'win_by_wickets','winner']].groupby(['winner']).sum())


# lets check all the Player of the Matches per season and per Team

@interact
def best_players(season = list(matches['Season'].value_counts().index),
                 team = list(matches['team1'].value_counts().index)):
    a = matches[(matches['Season'] == season) & (matches['team1'] == team)]
    return a['player_of_match'].value_counts()


# lets analyze the winning scores

print(matches[['win_by_runs', 'win_by_wickets']].describe())

plt.rcParams['figure.figsize'] = (10, 3)
matches[['win_by_runs', 'win_by_wickets']].describe().plot(kind = 'bar')
plt.show()


# lets check the Team who lost the Match by 146 Runs

matches[matches['win_by_runs'] == 146][['Season',
                                        'team1',
                                        'team2',
                                        'winner',
                                       'player_of_match']].reset_index(drop = True)


# lets also check the Teams who lost the Match by all the 10 Wickets

matches[matches['win_by_wickets'] == 10][['Season',
                                          'team1',
                                          'team2',
                                          'winner',
                                         'player_of_match']].reset_index(drop = True)


# Royal Challengers seem to be Highly Competitve
# lets Check their Top 10 Victory Moments

RCB = matches[(matches['winner'] == 'Royal Challengers Bangalore')]
RCB[(RCB['win_by_runs'] > 100) | (RCB['win_by_wickets'] > 7)][['Season',
                                                               'city',
                                                               'team1',
                                                               'team2',
                                                               'win_by_runs',
                                                               'win_by_wickets',
                                                               'player_of_match']]


## Lets compare Mumbai Indians and Chennai Super Kings

MumbaiIndians = matches[(matches['team1'] == 'Mumbai Indians') | (matches['team2'] == 'Mumbai Indians')]
ChennaiSuperKings = matches[(matches['team1'] == 'Chennai Super Kings') | (matches['team2'] == 'Chennai Super Kings')]

data = MumbaiIndians.append(ChennaiSuperKings)
data = data[(data['winner'] == 'Mumbai Indians') | (data['winner'] == 'Chennai Super Kings')]
data[['Season',
      'winner',
      'win_by_runs',
      'win_by_wickets',
      'player_of_match']].groupby(['winner']).agg(['min',
                                                   'mean',
                                                   'max',
                                                   'sum']).style.background_gradient(cmap = 'inferno')


# lets see the types of matches Results

matches['result'].value_counts()


# Lets check the Probability of Matches where we can see Normal, Tie or No Result scenarios

normal = matches[matches['result'] == 'normal']
tie = matches[matches['result'] == 'tie']
no_result = matches[matches['result'] == 'no result']

print("Percentage of matches where result is 'normal': ",round(normal.shape[0]/matches.shape[0],2) *100)
print("Percentage of matches where result is 'tie': ",round(tie.shape[0]/matches.shape[0],2) *100)
print("Percentage of matches where result is 'no result': ",round(no_result.shape[0]/matches.shape[0],2) *100)


# As we can see that there are only few Matches where Tie and No Result, so lets check them

print("Teams where Tie Happened")
print(matches[matches['result'] == 'tie'][['date','team1','team2']].reset_index(drop = True))
print("\n") 
print("Teams where there was No Result")
print(matches[matches['result'] == 'no result'][['date','team1','team2']].reset_index(drop = True))


# lets check the Number of IPL Seasons

plt.rcParams['figure.figsize'] = (12, 4)
sns.countplot(y = matches['Season'].sort_values(), palette = 'copper')
plt.title('IPL Seasons with Occurences \n', fontsize = 20)
plt.xlabel(' ')
plt.show()


# lets check the IPL Teams

plt.rcParams['figure.figsize'] = (15, 6)
sns.countplot(y = matches['team1'], palette = 'Wistia')
plt.title('Teams who played Highest number of Matches \n', fontsize = 20)
plt.ylabel('')
plt.xlabel('\n Number of Matches Played')
plt.show()


## Let explore the Vennues used for IPL Matches the Most

plt.rcParams['figure.figsize'] = (15, 6)
sns.barplot(y = matches['venue'].value_counts().head(15).index,
            x = matches['venue'].value_counts().head(15).values, 
            palette = 'cool')
plt.title('Most Popular Venues for IPL Matches \n', fontsize = 25)
plt.xlabel('\n Number of Matches played', fontsize = 20)
plt.show()


# lets find out in which cities the IPL matches were held out

def city(season):
    cities = matches.groupby(['Season','city'])['id'].agg('count').reset_index()
    cities.rename(columns={'id':'count'}, inplace=True)
    return cities[cities['Season'] == season].reset_index(drop = True).sort_values(by = 'count', ascending = False)

# lets test it out with the IPL Season 2019
city('IPL-2017')


# we can convert the above function into an Interactive function 

@interact
def city(season = list(matches['Season'].value_counts().index)):
    cities = matches.groupby(['Season','city'])['id'].agg('count').reset_index()
    cities.rename(columns={'id':'count'}, inplace=True)
    return cities[cities['Season'] == season].reset_index(drop = True).sort_values(by = 'count',
                                                    ascending = False).style.background_gradient(cmap = 'Greens')


# lets also check the total matches won by all the teams

matches['winner'].value_counts()


# lets analyze what is the Probability for a Team to Win if they win the Toss

not_same = matches[matches['toss_winner'] != matches['winner']]
same = matches[matches['toss_winner'] == matches['winner']]

print("Percentage of matches where toss winner is not same as winner: ",round(not_same.shape[0]/matches.shape[0], 4) *100)
print("Percentage of matches where toss winner is same as winner: ", round(same.shape[0]/matches.shape[0], 2) * 100)


# teams who won when they won the Toss

def tosswin_wins(team):
    x = pd.crosstab(matches['toss_winner'], matches['winner'])
    return x[[team]].sort_values(by = team, ascending = False).style.background_gradient(cmap ='copper')

# lets check this function with Mumbai Indians
tosswin_wins('Mumbai Indians')


# lets convert the above function into interactive

@interact
def tosswin_wins(team = matches['team1']):
    x = pd.crosstab(matches['toss_winner'], matches['winner'])
    return x[[team]].sort_values(by = team,
                ascending = False).style.background_gradient(cmap ='Oranges')


# lets analyze all the locations where a Team won the Match

def teams_winning_location(team):
    x = matches[['winner','city']]
    x = x[x['winner'] == team]
    return x['city'].value_counts()

# lets do the testing for Mumbai Indians
teams_winning_location('Mumbai Indians')


# It seems that Kolkata is lucky place for Mumbai.
# lets check How many Times Other IPL Teams have won in Kolkata

matches[matches['city'] == 'Kolkata'][['winner']].value_counts().iloc[1:]


# lets convert the above function into Interactive

@interact
def winning_locations(team = list(matches['team1'].value_counts().index)):
    z = matches[['winner','city']]
    z = z[z['winner'] == team]
    return z['city'].value_counts()


# lets see the types of toss decisions

matches['toss_decision'].value_counts()


# Probability of a team to win if they chose to field or bat

field = matches[matches['toss_decision'] == 'field']
bat = matches[matches['toss_decision'] == 'bat']

print("Percentage of matches where toss decision is 'field': ",round(field.shape[0]/matches.shape[0],2) *100)
print("Percentage of matches where toss decision is 'bat': ",round(bat.shape[0]/matches.shape[0],2) *100)


# lets check How many times the IPL Teams won the Toss

sns.countplot(y = matches['toss_winner'],
              palette = 'cividis')
plt.title('Teams with Most Toss Wins \n',fontsize = 20)
plt.ylabel(' ')
plt.xlabel(' ')
plt.show()


# lets compare the Toss Decisions

plt.rcParams['figure.figsize'] = (15, 5)
sns.countplot(matches['Season'].sort_values(), hue = matches['toss_decision'], palette = 'PuBu')
plt.title("Decision to field or bat across seasons", fontsize = 20)
plt.xlabel(" ")
plt.ylabel(" ")
plt.show()


# Lets see How the IPL Teams decide, whether to field or to Bat

@interact
def toss_decision(team = list(matches['toss_winner'].value_counts().index),
                  ):
    x = matches[matches['toss_winner'] == team]
    return x['toss_decision'].value_counts()


# lets check the Percentage of Matches where DL is applied

dl_applied_no = matches[matches['dl_applied'] == 0]
dl_applied_yes = matches[matches['dl_applied'] == 1]

print("Percentage of matches where DL is applied : ",round(dl_applied_yes.shape[0]/matches.shape[0],2) *100)
print("Percentage of matches where DL is not applied : ",round(dl_applied_no.shape[0]/matches.shape[0],2) *100)


# lets check the Winner of those Matches where DL is applied

matches[matches['dl_applied'] == 1][['winner']].value_counts()


# lets also check the complete deta of those Matches where DL is applied

matches[matches['dl_applied'] == 1][['team1','team2','winner']]


